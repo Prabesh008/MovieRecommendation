{
 "cells": [
  {
   "cell_type": "code",
   "execution_count": 7,
   "id": "4f6ca2b1",
   "metadata": {},
   "outputs": [],
   "source": [
    "import pandas as pd\n",
    "import numpy as np\n",
    "import warnings\n",
    "warnings.filterwarnings('ignore')"
   ]
  },
  {
   "cell_type": "code",
   "execution_count": 2,
   "id": "314ab651",
   "metadata": {},
   "outputs": [],
   "source": [
    "ratings={\n",
    "    'Lisa Rose': \n",
    "             {'Lady in the Water': 2.5, \n",
    "              'Snakes on a Plane': 3.5,\n",
    "              'Just My Luck': 3.0, \n",
    "              'Superman Returns': 3.5, \n",
    "              'You, Me and Dupree': 2.5,\n",
    "              'The Night Listener': 3.0},\n",
    "         \n",
    "        'Gene Seymour': \n",
    "             {'Lady in the Water': 3.0, \n",
    "              'Snakes on a Plane': 3.5,\n",
    "              'Just My Luck': 1.5, \n",
    "              'Superman Returns': 5.0, \n",
    "              'The Night Listener': 3.0,\n",
    "              'You, Me and Dupree': 3.5},\n",
    "         \n",
    "        'Claudia Puig': \n",
    "             {'Snakes on a Plane': 3.5, \n",
    "              'Just My Luck': 3.0,\n",
    "              'The Night Listener': 4.5, \n",
    "              'Superman Returns': 4.0,\n",
    "              'You, Me and Dupree': 2.5},\n",
    "         \n",
    "        'Mick LaSalle': \n",
    "             {'Lady in the Water': 3.0, \n",
    "              'Snakes on a Plane': 4.0,\n",
    "              'Just My Luck': 2.0, \n",
    "              'Superman Returns': 3.0, \n",
    "              'The Night Listener': 3.0,\n",
    "              'You, Me and Dupree': 2.0},\n",
    "         \n",
    "        'Jack Matthews': \n",
    "             {'Lady in the Water': 3.0, \n",
    "              'Snakes on a Plane': 4.0,\n",
    "              'The Night Listener': 3.0, \n",
    "              'Superman Returns': 5.0, \n",
    "              'You, Me and Dupree': 3.5},\n",
    "         \n",
    "        'Toby': \n",
    "             {'Snakes on a Plane':4.5,\n",
    "              'You, Me and Dupree':1.0,\n",
    "              'Superman Returns':4.0}\n",
    "        }\n",
    "\n",
    "users = ['Lisa Rose', 'Gene Seymour','Claudia Puig','Mick LaSalle','Jack Matthews','Toby']\n",
    "movies = ['Lady in the Water','Snakes on a Plane','Just My Luck','Superman Returns','You, Me and Dupree','The Night Listener']\n",
    "\n",
    "movie1 = 'You, Me and Dupree'\n",
    "movie2 = 'Snakes on a Plane'"
   ]
  },
  {
   "cell_type": "code",
   "execution_count": 3,
   "id": "33e49997",
   "metadata": {},
   "outputs": [
    {
     "name": "stdout",
     "output_type": "stream",
     "text": [
      "\n",
      "\n",
      " simialrity score function\n",
      "\n",
      "\n"
     ]
    }
   ],
   "source": [
    "\n",
    "for i in movies:\n",
    "    for j in ratings:\n",
    "        if i not in ratings[j]:\n",
    "            ratings[j][i] = 0\n",
    "\n",
    "\n",
    "keyUser = users[5]\n",
    "# print(keyUser)\n",
    "print(\"\\n\\n simialrity score function\\n\\n\")\n",
    "ratingsUnknownList = []\n",
    "ratingsKnownList = []\n",
    "for i in ratings:\n",
    "    for j in ratings[i]:\n",
    "        if i == keyUser:\n",
    "            if ratings[i][j] == 0:\n",
    "                ratingsUnknownList.append(j)\n",
    "            else:\n",
    "                ratingsKnownList.append(j)\n"
   ]
  },
  {
   "cell_type": "code",
   "execution_count": 4,
   "id": "bf10a01a",
   "metadata": {},
   "outputs": [],
   "source": [
    "def calculateSimilarityScore():\n",
    "    similarityLIst = {}\n",
    "    for i in ratings[keyUser]:\n",
    "        if i in ratingsKnownList:\n",
    "            similarityLIst[i] = ratings[keyUser][i]\n"
   ]
  },
  {
   "cell_type": "code",
   "execution_count": 6,
   "id": "edd92599",
   "metadata": {},
   "outputs": [
    {
     "ename": "NameError",
     "evalue": "name 'ratings' is not defined",
     "output_type": "error",
     "traceback": [
      "\u001b[1;31m---------------------------------------------------------------------------\u001b[0m",
      "\u001b[1;31mNameError\u001b[0m                                 Traceback (most recent call last)",
      "\u001b[1;32m<ipython-input-6-067b606dd5b1>\u001b[0m in \u001b[0;36m<module>\u001b[1;34m\u001b[0m\n\u001b[0;32m     11\u001b[0m \u001b[0msimilarityLIst\u001b[0m \u001b[1;33m=\u001b[0m \u001b[1;33m{\u001b[0m\u001b[1;33m}\u001b[0m\u001b[1;33m\u001b[0m\u001b[1;33m\u001b[0m\u001b[0m\n\u001b[0;32m     12\u001b[0m \u001b[1;33m\u001b[0m\u001b[0m\n\u001b[1;32m---> 13\u001b[1;33m \u001b[1;32mfor\u001b[0m \u001b[0mi\u001b[0m \u001b[1;32min\u001b[0m \u001b[0mratings\u001b[0m\u001b[1;33m:\u001b[0m\u001b[1;33m\u001b[0m\u001b[1;33m\u001b[0m\u001b[0m\n\u001b[0m\u001b[0;32m     14\u001b[0m     \u001b[0mscore\u001b[0m \u001b[1;33m=\u001b[0m \u001b[0msimilarityScore\u001b[0m\u001b[1;33m(\u001b[0m\u001b[0mratings\u001b[0m\u001b[1;33m,\u001b[0m \u001b[0mkeyUser\u001b[0m\u001b[1;33m,\u001b[0m \u001b[0mi\u001b[0m\u001b[1;33m,\u001b[0m \u001b[0mratingsKnownList\u001b[0m\u001b[1;33m)\u001b[0m\u001b[1;33m\u001b[0m\u001b[1;33m\u001b[0m\u001b[0m\n\u001b[0;32m     15\u001b[0m     \u001b[0msimilarityLIst\u001b[0m\u001b[1;33m[\u001b[0m\u001b[0mi\u001b[0m\u001b[1;33m]\u001b[0m \u001b[1;33m=\u001b[0m \u001b[0mscore\u001b[0m\u001b[1;33m\u001b[0m\u001b[1;33m\u001b[0m\u001b[0m\n",
      "\u001b[1;31mNameError\u001b[0m: name 'ratings' is not defined"
     ]
    }
   ],
   "source": [
    "def similarityScore(ratings, keyUser, similarUser, ratingsKnownList):\n",
    "    listSum = []\n",
    "    simSum = 0\n",
    "    for i in ratingsKnownList:\n",
    "        simSum = pow(ratings[keyUser][i] - ratings[similarUser][i],2) + simSum\n",
    "        listSum.append(simSum)\n",
    "    \n",
    "    simFinal = 1/(1+pow(simSum,0.5))\n",
    "    return simFinal\n",
    "\n",
    "similarityLIst = {}\n",
    "\n",
    "for i in ratings:\n",
    "    score = similarityScore(ratings, keyUser, i, ratingsKnownList)\n",
    "    similarityLIst[i] = score\n",
    "\n",
    "  \n",
    "\n",
    "\n",
    "weightedListTotal = 0\n",
    "similaritySum = 0\n",
    "movieToRecommend = \"\"\n",
    "decidingList = {}\n",
    "for i in ratingsUnknownList:\n",
    "    for j in ratings:\n",
    "        weightedListTotal = weightedListTotal + (ratings[j][i] * similarityLIst[j])\n",
    "        if ratings[j][i] != 0:\n",
    "            similaritySum = similaritySum + similarityLIst[j]\n",
    "            \n",
    "    similarityRatio = weightedListTotal/similaritySum\n",
    "    \n",
    "    decidingList[i] = similarityRatio\n",
    "    weightedListTotal = 0\n",
    "    similaritySum = 0\n",
    "\n",
    "  \n",
    "\n",
    "recommendedMovies = []\n",
    "for i in decidingList:\n",
    "    if decidingList[i] > 1.6:\n",
    "        recommendedMovies.append(i)\n",
    "print(recommendedMovies)\n"
   ]
  },
  {
   "cell_type": "code",
   "execution_count": null,
   "id": "b7fe96d5",
   "metadata": {},
   "outputs": [],
   "source": []
  }
 ],
 "metadata": {
  "kernelspec": {
   "display_name": "Python 3",
   "language": "python",
   "name": "python3"
  },
  "language_info": {
   "codemirror_mode": {
    "name": "ipython",
    "version": 3
   },
   "file_extension": ".py",
   "mimetype": "text/x-python",
   "name": "python",
   "nbconvert_exporter": "python",
   "pygments_lexer": "ipython3",
   "version": "3.8.8"
  }
 },
 "nbformat": 4,
 "nbformat_minor": 5
}
